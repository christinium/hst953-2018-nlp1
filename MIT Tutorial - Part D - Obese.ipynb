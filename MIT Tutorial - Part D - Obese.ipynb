{
  "nbformat": 4,
  "nbformat_minor": 0,
  "metadata": {
    "colab": {
      "name": "MIT Tutorial - Part D - Obese.ipynb",
      "version": "0.3.2",
      "provenance": []
    },
    "kernelspec": {
      "display_name": "Python 3",
      "language": "python",
      "name": "python3"
    }
  },
  "cells": [
    {
      "metadata": {
        "id": "TsRhtG_v8x6v",
        "colab_type": "text"
      },
      "cell_type": "markdown",
      "source": [
        "# Part D - Identifying Obese\n"
      ]
    },
    {
      "metadata": {
        "id": "WrIBRxjB8x62",
        "colab_type": "code",
        "colab": {}
      },
      "cell_type": "code",
      "source": [
        "# First off - load all the silly python libraries we are going to need\n",
        "import pandas as pd\n",
        "import numpy as np\n",
        "import os\n",
        "\n",
        "from google.colab import auth\n",
        "from google.cloud import bigquery\n",
        "from google.colab import files"
      ],
      "execution_count": 0,
      "outputs": []
    },
    {
      "metadata": {
        "id": "VjUx4sRP9MOm",
        "colab_type": "code",
        "colab": {}
      },
      "cell_type": "code",
      "source": [
        "auth.authenticate_user() #This will allow you to authenticate access to BigQuery"
      ],
      "execution_count": 0,
      "outputs": []
    },
    {
      "metadata": {
        "id": "8q5UwFs89SSX",
        "colab_type": "code",
        "colab": {}
      },
      "cell_type": "code",
      "source": [
        "#This is a method that executes a desired SQL query on the database\n",
        "project_id='hst-953-2018'\n",
        "os.environ[\"GOOGLE_CLOUD_PROJECT\"]=project_id\n",
        "# Read data from BigQuery into pandas dataframes.\n",
        "def run_query(query):\n",
        "  return pd.io.gbq.read_gbq(query, project_id=project_id, verbose=False, configuration={'query':{'useLegacySql': False}})"
      ],
      "execution_count": 0,
      "outputs": []
    },
    {
      "metadata": {
        "id": "aKTDxcNM8x7B",
        "colab_type": "code",
        "colab": {}
      },
      "cell_type": "code",
      "source": [
        "# Now load the data. In general you'd load the whole set of notes but that would take\n",
        "# several minutes so for this example we're just going to use a subset\n",
        "#notes = pd.read_csv('D.csv')\n",
        "notes = run_query('''\n",
        "    SELECT *\n",
        "    FROM `physionet-data.mimiciii_notes.noteevents`\n",
        "    WHERE CATEGORY = 'Discharge summary'\n",
        "    ''')\n"
      ],
      "execution_count": 0,
      "outputs": []
    },
    {
      "metadata": {
        "id": "jXFarBSbA7cU",
        "colab_type": "code",
        "colab": {}
      },
      "cell_type": "code",
      "source": [
        "notes.head()"
      ],
      "execution_count": 0,
      "outputs": []
    },
    {
      "metadata": {
        "id": "KbrGptE78x7P",
        "colab_type": "code",
        "colab": {}
      },
      "cell_type": "code",
      "source": [
        "# Load the gold standard\n",
        "#gold = pd.read_csv('obese-gold.csv')\n",
        "gold = run_query('''\n",
        "    SELECT *  \n",
        "    FROM `hst-953-2018.NLP_workshop.obese_gold` \n",
        "    ''')\n"
      ],
      "execution_count": 0,
      "outputs": []
    },
    {
      "metadata": {
        "id": "VDFgJnmM8x7g",
        "colab_type": "code",
        "colab": {}
      },
      "cell_type": "code",
      "source": [
        "# Here is the list of terms we are going to consider \"good\"\n",
        "terms = ['obese']"
      ],
      "execution_count": 0,
      "outputs": []
    },
    {
      "metadata": {
        "id": "p80Fp2xO8x7n",
        "colab_type": "code",
        "outputId": "d6a0cc13-7267-4f50-8353-7890e56ec17c",
        "colab": {
          "base_uri": "https://localhost:8080/",
          "height": 34
        }
      },
      "cell_type": "code",
      "source": [
        "# Now scan through all of the notes. Do any of the terms appear? If so stash the note \n",
        "# id for future use\n",
        "\n",
        "matches = []\n",
        "\n",
        "for index, row in notes.iterrows():\n",
        "    if any(x in row['TEXT'] for x in terms):\n",
        "        matches.append(row['SUBJECT_ID'])\n",
        "\n",
        "print(\"Found \" + str(len(matches)) + \" matching notes.\")"
      ],
      "execution_count": 0,
      "outputs": [
        {
          "output_type": "stream",
          "text": [
            "Found 4934 matching notes.\n"
          ],
          "name": "stdout"
        }
      ]
    },
    {
      "metadata": {
        "id": "1qD-RMxd8x7x",
        "colab_type": "code",
        "colab": {}
      },
      "cell_type": "code",
      "source": [
        "# For the patients in those notes, set \"obese\" true (1) in a the results\n",
        "myscores = gold.copy()\n",
        "myscores['obese_1'] = 0 # This sets them all to unknown\n",
        "\n",
        "for subject_id in matches:\n",
        "    myscores.loc[myscores[\"subject_id\"] == subject_id,'obese_1'] = 1\n"
      ],
      "execution_count": 0,
      "outputs": []
    },
    {
      "metadata": {
        "id": "jluSXN7A8x76",
        "colab_type": "code",
        "colab": {}
      },
      "cell_type": "code",
      "source": [
        "# Compute your score\n",
        "\n",
        "skipped = 0\n",
        "truepositive = 0\n",
        "falsepositive = 0\n",
        "truenegative = 0\n",
        "falsenegative = 0\n",
        "\n",
        "for index, row in myscores.iterrows():\n",
        "    if row['obese_1'] == 0:\n",
        "        skipped = skipped + 1\n",
        "    else:\n",
        "        if row['obese_1'] == 1 and gold.loc[index]['obese_1'] == 1:\n",
        "            truepositive = truepositive + 1\n",
        "        elif row['obese_1'] == -1 and gold.loc[index]['obese_1'] == -1:\n",
        "            truenegative = truenegative + 1\n",
        "        elif row['obese_1'] == 1 and gold.loc[index]['obese_1'] == -1:\n",
        "            falsepositive = falsepositive + 1\n",
        "        elif row['obese_1'] == -1 and gold.loc[index]['obese_1'] == 1:\n",
        "            falsenegative = falsenegative + 1\n",
        "\n",
        "print (\"Skipped:\\t\" + str(skipped))\n",
        "print (\"True Pos:\\t\" + str(truepositive))\n",
        "print (\"True Neg:\\t\" + str(truenegative))\n",
        "print (\"False Pos:\\t\" + str(falsepositive))\n",
        "print (\"False Neg:\\t\" + str(falsenegative))     \n",
        "print (\"SCORE:\\t\\t\" + str(truepositive + truenegative - falsepositive - falsenegative))"
      ],
      "execution_count": 0,
      "outputs": []
    }
  ]
}