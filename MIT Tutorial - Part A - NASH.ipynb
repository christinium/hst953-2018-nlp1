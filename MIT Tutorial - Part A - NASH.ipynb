{
  "nbformat": 4,
  "nbformat_minor": 0,
  "metadata": {
    "colab": {
      "name": "MIT Tutorial - Part A - NASH.ipynb",
      "version": "0.3.2",
      "provenance": []
    },
    "kernelspec": {
      "display_name": "Python 3",
      "language": "python",
      "name": "python3"
    }
  },
  "cells": [
    {
      "metadata": {
        "id": "SM8f3IVBmUfr",
        "colab_type": "text"
      },
      "cell_type": "markdown",
      "source": [
        "# Part A - Finding the NASH\n",
        "\n",
        "Natural Language Processing (NLP) doesn't have to be hard! For many tasks simply finding a bunch of notes that are helpful is enough. In this example we have a nice term (NASH) that is fairly unambiguous. We just want to find patients who may have NASH for some further study."
      ]
    },
    {
      "metadata": {
        "id": "vGJ3iTywmUft",
        "colab_type": "code",
        "colab": {}
      },
      "cell_type": "code",
      "source": [
        "# First off - load all the silly python libraries we are going to need\n",
        "import pandas as pd\n",
        "import numpy as np\n",
        "import random\n",
        "from IPython.core.display import display, HTML\n",
        "\n",
        "\n",
        "from google.colab import auth\n",
        "from google.cloud import bigquery\n",
        "from google.colab import files\n",
        "import os"
      ],
      "execution_count": 0,
      "outputs": []
    },
    {
      "metadata": {
        "id": "hP5ZugAwnTDj",
        "colab_type": "code",
        "colab": {}
      },
      "cell_type": "code",
      "source": [
        "auth.authenticate_user() # authenticating "
      ],
      "execution_count": 0,
      "outputs": []
    },
    {
      "metadata": {
        "id": "prpjl4yvni5v",
        "colab_type": "code",
        "colab": {}
      },
      "cell_type": "code",
      "source": [
        "project_id='hst-953-2018'\n",
        "os.environ[\"GOOGLE_CLOUD_PROJECT\"]=project_id\n",
        "# Read data from BigQuery into pandas dataframes.\n",
        "def run_query(query):\n",
        "  return pd.io.gbq.read_gbq(query, project_id=project_id, verbose=False, configuration={'query':{'useLegacySql': False}})"
      ],
      "execution_count": 0,
      "outputs": []
    },
    {
      "metadata": {
        "id": "EJWELLsCmUfx",
        "colab_type": "code",
        "colab": {}
      },
      "cell_type": "code",
      "source": [
        "# Now load the data. In general you'd load the whole set of notes but that would take\n",
        "# several minutes so for this example we're just going to use a subset\n",
        "#notes = pd.read_csv('A.csv')\n",
        "notes = run_query('''\n",
        "SELECT row_id, subject_id, hadm_id, TEXT\n",
        "FROM `physionet-data.mimiciii_notes.noteevents`\n",
        "WHERE CATEGORY = 'Discharge summary'\n",
        "''')"
      ],
      "execution_count": 0,
      "outputs": []
    },
    {
      "metadata": {
        "id": "9QnR8QrgmUf0",
        "colab_type": "code",
        "colab": {}
      },
      "cell_type": "code",
      "source": [
        "# Here is the list of terms we are going to consider \"good\"\n",
        "terms = ['NASH', 'nonalcoholic steathohepatitis']"
      ],
      "execution_count": 0,
      "outputs": []
    },
    {
      "metadata": {
        "id": "2bSHP9vbmUf3",
        "colab_type": "code",
        "outputId": "204b3c27-e3aa-481f-d396-bfadd1112206",
        "colab": {
          "base_uri": "https://localhost:8080/",
          "height": 35
        }
      },
      "cell_type": "code",
      "source": [
        "# Now scan through all of the notes. Do any of the terms appear? If so stash the note \n",
        "# id for future use\n",
        "\n",
        "matches = []\n",
        "\n",
        "for index, row in notes.iterrows():\n",
        "    if any(x in row['TEXT'] for x in terms):\n",
        "        matches.append(row['ROW_ID'])\n",
        "\n",
        "print(\"Found \" + str(len(matches)) + \" matching notes.\")"
      ],
      "execution_count": 0,
      "outputs": [
        {
          "output_type": "stream",
          "text": [
            "Found 0 matching notes.\n"
          ],
          "name": "stdout"
        }
      ]
    },
    {
      "metadata": {
        "id": "eZbZfmEJmUgA",
        "colab_type": "code",
        "colab": {}
      },
      "cell_type": "code",
      "source": [
        "# Display a random note that matches. You can rerun this cell to get another note.\n",
        "# The fancy stuff is just highlighting the match to make it easier to find.\n",
        "\n",
        "display_id = random.choice(matches)\n",
        "text = notes[notes['ROW_ID'] == display_id].iloc[0]['TEXT']\n",
        "for term in terms:\n",
        "    text = text.replace(term, \"<font color=\\\"red\\\">\" + term + \"</font>\")\n",
        "display(HTML(\"<pre>\" + text + \"</pre>\"))\n"
      ],
      "execution_count": 0,
      "outputs": []
    }
  ]
}